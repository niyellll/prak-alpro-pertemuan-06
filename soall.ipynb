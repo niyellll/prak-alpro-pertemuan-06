{
 "cells": [
  {
   "cell_type": "markdown",
   "metadata": {},
   "source": [
    "Latihan 6.1\n",
    "Buatlah program untuk mencari bilangan prima terdekat dari suatu bilangan yang\n",
    "diinputkan oleh pengguna (n) dan nilai bilangan prima tersebut < n. Contoh: input n=12, maka\n",
    "prima terdekat < 12 adalah 11 Contoh: input n=21, maka prima terdekat < 21 adalah 19"
   ]
  },
  {
   "cell_type": "code",
   "execution_count": 13,
   "metadata": {},
   "outputs": [
    {
     "name": "stdout",
     "output_type": "stream",
     "text": [
      "Bilangan prima terdekat yang lebih kecil dari 12 adalah 11\n",
      "Bilangan prima terdekat yang lebih kecil dari 21 adalah 19\n"
     ]
    }
   ],
   "source": [
    "def cari_prima_terdekat(n):\n",
    "  if n <= 1:\n",
    "    return \"Bilangan prima tidak ada yang lebih kecil dari 1.\"\n",
    "  if n % 2 == 0:\n",
    "    n -= 1\n",
    "  while not is_prima(n):\n",
    "    n -= 2\n",
    "  return n\n",
    "\n",
    "def is_prima(n):\n",
    "  if n <= 1:\n",
    "    return False\n",
    "  for i in range(2, int(n**0.5) + 1):\n",
    "    if n % i == 0:\n",
    "      return False\n",
    "\n",
    "  return True\n",
    "\n",
    "n = 12\n",
    "prima_terdekat = cari_prima_terdekat(n)\n",
    "print(f\"Bilangan prima terdekat yang lebih kecil dari {n} adalah {prima_terdekat}\")\n",
    "\n",
    "n= 21\n",
    "prima_terdekat = cari_prima_terdekat(n)\n",
    "print(f\"Bilangan prima terdekat yang lebih kecil dari {n} adalah {prima_terdekat}\")\n"
   ]
  },
  {
   "cell_type": "markdown",
   "metadata": {},
   "source": [
    "Latihan 6.2 \n",
    "Buatlah program untuk menampilkan deret seperti di bawah ini. n diinputkan\n",
    "secara dinamis\n",
    "contoh: n = 6\n",
    "720 6 5 4 3 2 1\n",
    "120 5 4 3 2 1\n",
    "24 4 3 2 1\n",
    "6 3 2 1\n",
    "2 2 1\n",
    "1 1\n"
   ]
  },
  {
   "cell_type": "code",
   "execution_count": 17,
   "metadata": {},
   "outputs": [
    {
     "name": "stdout",
     "output_type": "stream",
     "text": [
      "720 6 5 4 3 2 1 \n",
      "120 5 4 3 2 1 \n",
      "24 4 3 2 1 \n",
      "6 3 2 1 \n",
      "2 2 1 \n",
      "1 1 \n"
     ]
    }
   ],
   "source": [
    "def deret_faktorial_dan_pembagi(n):\n",
    "    for i in range(n, 0, -1):\n",
    "        faktorial = 1\n",
    "        for j in range(2, i + 1):\n",
    "            faktorial *= j\n",
    "        print(f\"{faktorial}\", end=\" \")\n",
    "        for j in range(i, 0, -1):\n",
    "            if faktorial % j == 0:\n",
    "                print(f\"{j}\", end=\" \")\n",
    "        print()\n",
    "\n",
    "n = 6\n",
    "deret_faktorial_dan_pembagi(n)\n",
    "\n",
    "\n"
   ]
  },
  {
   "cell_type": "markdown",
   "metadata": {},
   "source": [
    "latihan 6.3 \n",
    "Buatlah program untuk menampilkan deret seperti di bawah ini. n diinputkan\n",
    "secara dinamis\n",
    "contoh: tinggi = 5, lebar = 4\n",
    "1 2 3 4\n",
    "5 6 7 8\n",
    "9 10 11 12\n",
    "13 14 15 16\n",
    "17 18 19 20"
   ]
  },
  {
   "cell_type": "code",
   "execution_count": 19,
   "metadata": {},
   "outputs": [
    {
     "name": "stdout",
     "output_type": "stream",
     "text": [
      "1 2 3 4 \n",
      "5 6 7 8 \n",
      "9 10 11 12 \n",
      "13 14 15 16 \n",
      "17 18 19 20 \n"
     ]
    }
   ],
   "source": [
    "def deret_urut(tinggi, lebar):\n",
    "  for i in range(tinggi):\n",
    "    for j in range(lebar):\n",
    "      nomor_urut = i * lebar + j + 1\n",
    "      print(f\"{nomor_urut}\", end=\" \")\n",
    "      \n",
    "    print()\n",
    "\n",
    "tinggi = 5\n",
    "lebar = 4\n",
    "\n",
    "deret_urut(tinggi, lebar)\n"
   ]
  }
 ],
 "metadata": {
  "language_info": {
   "name": "python"
  }
 },
 "nbformat": 4,
 "nbformat_minor": 2
}
